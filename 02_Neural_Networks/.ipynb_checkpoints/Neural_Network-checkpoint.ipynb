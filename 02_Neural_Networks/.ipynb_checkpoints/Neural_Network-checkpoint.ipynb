{
 "cells": [
  {
   "cell_type": "code",
   "execution_count": 13,
   "metadata": {},
   "outputs": [
    {
     "name": "stdout",
     "output_type": "stream",
     "text": [
      "[[0.996797  ]\n",
      " [0.99329591]\n",
      " [0.01088967]]\n"
     ]
    }
   ],
   "source": [
    "import numpy as np\n",
    "\n",
    "# Input array\n",
    "X = np.array([[1,0,1,0],[1,0,1,1],[0,1,0,1]])\n",
    "\n",
    "# Output array\n",
    "y = np.array([[1],[1],[0]])\n",
    "\n",
    "# Signmoid Function\n",
    "def sigmoid (x):\n",
    "    return 1/(1 + np.exp(-x))\n",
    "\n",
    "# Derivative of Sigmoid Function\n",
    "def derivatives_sigmoid(x):\n",
    "    return x * (1 - x)\n",
    "\n",
    "# Variable initialization\n",
    "epoch = 50000\n",
    "lr = 0.1\n",
    "inputlayer_neurons = X.shape[1]\n",
    "hidden_layer_neurons = 3\n",
    "output_neurons = 1\n",
    "\n",
    "# Weight and bias initialization\n",
    "wh = np.random.uniform(size = (inputlayer_neurons, hidden_layer_neurons))\n",
    "bh = np.random.uniform(size = (1, hidden_layer_neurons))\n",
    "wout = np.random.uniform(size = (hidden_layer_neurons, output_neurons))\n",
    "bout = np.random.uniform(size = (1, output_neurons))\n",
    "\n",
    "for i in range(epoch):\n",
    "#     Forward propagation\n",
    "    hidden_layer_input1 = np.dot(X, wh)\n",
    "    hidden_layer_input = hidden_layer_input1 + bh\n",
    "    hidden_layer_activations = sigmoid(hidden_layer_input)\n",
    "    output_layer_input1 = np.dot(hidden_layer_activations, wout)\n",
    "    output_layer_input = output_layer_input1 + bout\n",
    "    output = sigmoid(output_layer_input)\n",
    "    \n",
    "#     Backpropagation\n",
    "#     Change weights based on backward propagation\n",
    "    D = y - output\n",
    "    slope_output_layer = derivatives_sigmoid(output)\n",
    "    \n",
    "    slope_hidden_layer = derivatives_sigmoid(hidden_layer_activations)\n",
    "    error_at_hidden_layer = d_output.dot(wout.T)\n",
    "    \n",
    "    d_output = D * slope_output_layer\n",
    "    d_hidden_layer = error_at_hidden_layer * slope_hidden_layer\n",
    "    \n",
    "    wout += hidden_layer_activations.T.dot(d_output) * lr\n",
    "    wh += X.T.dot(d_hidden_layer) * lr\n",
    "    \n",
    "    \n",
    "print(output)"
   ]
  },
  {
   "cell_type": "code",
   "execution_count": null,
   "metadata": {},
   "outputs": [],
   "source": []
  }
 ],
 "metadata": {
  "kernelspec": {
   "display_name": "Python 3",
   "language": "python",
   "name": "python3"
  },
  "language_info": {
   "codemirror_mode": {
    "name": "ipython",
    "version": 3
   },
   "file_extension": ".py",
   "mimetype": "text/x-python",
   "name": "python",
   "nbconvert_exporter": "python",
   "pygments_lexer": "ipython3",
   "version": "3.6.5"
  }
 },
 "nbformat": 4,
 "nbformat_minor": 2
}
