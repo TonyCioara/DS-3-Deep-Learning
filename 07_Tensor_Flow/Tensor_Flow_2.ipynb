{
 "cells": [
  {
   "cell_type": "code",
   "execution_count": 1,
   "metadata": {},
   "outputs": [
    {
     "name": "stderr",
     "output_type": "stream",
     "text": [
      "/anaconda3/lib/python3.6/site-packages/h5py/__init__.py:36: FutureWarning: Conversion of the second argument of issubdtype from `float` to `np.floating` is deprecated. In future, it will be treated as `np.float64 == np.dtype(float).type`.\n",
      "  from ._conv import register_converters as _register_converters\n"
     ]
    }
   ],
   "source": [
    "from __future__ import print_function\n",
    "import tensorflow as tf\n",
    "import numpy as np\n",
    "import matplotlib.pyplot as plt"
   ]
  },
  {
   "cell_type": "code",
   "execution_count": 2,
   "metadata": {},
   "outputs": [
    {
     "name": "stdout",
     "output_type": "stream",
     "text": [
      "[[[0. 1.]\n",
      "  [2. 3.]]\n",
      "\n",
      " [[4. 5.]\n",
      "  [6. 7.]]]\n",
      "[array([[0., 1.],\n",
      "       [4., 5.]], dtype=float32), array([[2., 3.],\n",
      "       [6., 7.]], dtype=float32)]\n",
      "[array([[0., 2.],\n",
      "       [4., 6.]], dtype=float32), array([[1., 3.],\n",
      "       [5., 7.]], dtype=float32)]\n"
     ]
    }
   ],
   "source": [
    "x = [0., 1., 2., 3., 4., 5., 6., 7.]\n",
    "y= tf.reshape(x, (2, 2, 2))\n",
    "\n",
    "sess = tf.Session()\n",
    "\n",
    "print(sess.run(y))\n",
    "\n",
    "unstack_axis1 = tf.unstack(y, axis=1)\n",
    "unstack_axis2 = tf.unstack(y, axis=2)\n",
    "\n",
    "print(sess.run(unstack_axis1))\n",
    "print(sess.run(unstack_axis2))"
   ]
  },
  {
   "cell_type": "code",
   "execution_count": 3,
   "metadata": {},
   "outputs": [
    {
     "name": "stdout",
     "output_type": "stream",
     "text": [
      "[21.0, 7.0]\n",
      "<class 'list'>\n"
     ]
    }
   ],
   "source": [
    "input1 = tf.constant(3.0)\n",
    "input2 = tf.constant(2.0)\n",
    "input3 = tf.constant(5.0)\n",
    "intermed = tf.add(input2, input3)\n",
    "\n",
    "mul = tf.multiply(input1, intermed)\n",
    "\n",
    "with tf.Session() as sess:\n",
    "    result = sess.run([mul, intermed])\n",
    "    print(result)\n",
    "    print(type(result))"
   ]
  },
  {
   "cell_type": "code",
   "execution_count": 7,
   "metadata": {},
   "outputs": [],
   "source": [
    "x = []\n",
    "y = tf.get_variable(\"y\", [2, 2], initializer = tf.random_uniform_initializer(-1, 1))\n",
    "z = tf.get_variable(\"z\", [2, 2], initializer = tf.random_uniform_initializer(-1, 1))\n",
    "\n",
    "with tf.device('/gpu:0'):\n",
    "    x.append(tf.matmul(y, z))\n",
    "    \n",
    "with tf.device('/gpu:1'):\n",
    "    x.append(y + z)\n",
    "    \n",
    "with tf.device('/cpu:0'):\n",
    "    w = tf.add_n(x)\n",
    "    \n",
    "sess = tf.Session(config=tf.ConfigProto(log_device_placement=True))"
   ]
  }
 ],
 "metadata": {
  "kernelspec": {
   "display_name": "Python 3",
   "language": "python",
   "name": "python3"
  },
  "language_info": {
   "codemirror_mode": {
    "name": "ipython",
    "version": 3
   },
   "file_extension": ".py",
   "mimetype": "text/x-python",
   "name": "python",
   "nbconvert_exporter": "python",
   "pygments_lexer": "ipython3",
   "version": "3.6.5"
  }
 },
 "nbformat": 4,
 "nbformat_minor": 2
}
