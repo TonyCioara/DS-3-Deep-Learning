{
 "cells": [
  {
   "cell_type": "code",
   "execution_count": 2,
   "metadata": {},
   "outputs": [
    {
     "name": "stdout",
     "output_type": "stream",
     "text": [
      "Train on 60000 samples, validate on 10000 samples\n",
      "Epoch 1/25\n",
      "60000/60000 [==============================] - 2s 34us/step - loss: 0.3593 - acc: 0.7528 - val_loss: 0.2707 - val_acc: 0.7958\n",
      "Epoch 2/25\n",
      "60000/60000 [==============================] - 2s 30us/step - loss: 0.2630 - acc: 0.7982 - val_loss: 0.2514 - val_acc: 0.7967\n",
      "Epoch 3/25\n",
      "60000/60000 [==============================] - 2s 29us/step - loss: 0.2404 - acc: 0.7981 - val_loss: 0.2273 - val_acc: 0.7966\n",
      "Epoch 4/25\n",
      "60000/60000 [==============================] - 2s 31us/step - loss: 0.2193 - acc: 0.7980 - val_loss: 0.2091 - val_acc: 0.7978\n",
      "Epoch 5/25\n",
      "60000/60000 [==============================] - 2s 29us/step - loss: 0.2041 - acc: 0.7990 - val_loss: 0.1965 - val_acc: 0.7988\n",
      "Epoch 6/25\n",
      "60000/60000 [==============================] - 2s 30us/step - loss: 0.1931 - acc: 0.8003 - val_loss: 0.1869 - val_acc: 0.8011\n",
      "Epoch 7/25\n",
      "60000/60000 [==============================] - 2s 31us/step - loss: 0.1843 - acc: 0.8017 - val_loss: 0.1789 - val_acc: 0.8019\n",
      "Epoch 8/25\n",
      "60000/60000 [==============================] - 2s 30us/step - loss: 0.1772 - acc: 0.8028 - val_loss: 0.1728 - val_acc: 0.8034\n",
      "Epoch 9/25\n",
      "60000/60000 [==============================] - 2s 30us/step - loss: 0.1713 - acc: 0.8038 - val_loss: 0.1673 - val_acc: 0.8038\n",
      "Epoch 10/25\n",
      "60000/60000 [==============================] - 2s 30us/step - loss: 0.1664 - acc: 0.8045 - val_loss: 0.1627 - val_acc: 0.8044\n",
      "Epoch 11/25\n",
      "60000/60000 [==============================] - 2s 32us/step - loss: 0.1621 - acc: 0.8052 - val_loss: 0.1586 - val_acc: 0.8050\n",
      "Epoch 12/25\n",
      "60000/60000 [==============================] - 2s 34us/step - loss: 0.1582 - acc: 0.8058 - val_loss: 0.1551 - val_acc: 0.8057\n",
      "Epoch 13/25\n",
      "60000/60000 [==============================] - 2s 35us/step - loss: 0.1547 - acc: 0.8064 - val_loss: 0.1517 - val_acc: 0.8061\n",
      "Epoch 14/25\n",
      "60000/60000 [==============================] - 2s 32us/step - loss: 0.1515 - acc: 0.8069 - val_loss: 0.1486 - val_acc: 0.8067\n",
      "Epoch 15/25\n",
      "60000/60000 [==============================] - 2s 33us/step - loss: 0.1485 - acc: 0.8074 - val_loss: 0.1456 - val_acc: 0.8071\n",
      "Epoch 16/25\n",
      "60000/60000 [==============================] - 2s 34us/step - loss: 0.1456 - acc: 0.8079 - val_loss: 0.1429 - val_acc: 0.8075\n",
      "Epoch 17/25\n",
      "60000/60000 [==============================] - 2s 33us/step - loss: 0.1429 - acc: 0.8083 - val_loss: 0.1402 - val_acc: 0.8079\n",
      "Epoch 18/25\n",
      "60000/60000 [==============================] - 2s 33us/step - loss: 0.1404 - acc: 0.8087 - val_loss: 0.1377 - val_acc: 0.8084\n",
      "Epoch 19/25\n",
      "60000/60000 [==============================] - 2s 35us/step - loss: 0.1379 - acc: 0.8091 - val_loss: 0.1353 - val_acc: 0.8085\n",
      "Epoch 20/25\n",
      "60000/60000 [==============================] - 2s 33us/step - loss: 0.1355 - acc: 0.8095 - val_loss: 0.1330 - val_acc: 0.8090\n",
      "Epoch 21/25\n",
      "60000/60000 [==============================] - 2s 31us/step - loss: 0.1333 - acc: 0.8099 - val_loss: 0.1307 - val_acc: 0.8094\n",
      "Epoch 22/25\n",
      "60000/60000 [==============================] - 2s 32us/step - loss: 0.1310 - acc: 0.8102 - val_loss: 0.1285 - val_acc: 0.8096\n",
      "Epoch 23/25\n",
      "60000/60000 [==============================] - 2s 34us/step - loss: 0.1289 - acc: 0.8105 - val_loss: 0.1264 - val_acc: 0.8100\n",
      "Epoch 24/25\n",
      "60000/60000 [==============================] - 2s 33us/step - loss: 0.1268 - acc: 0.8109 - val_loss: 0.1243 - val_acc: 0.8102\n",
      "Epoch 25/25\n",
      "60000/60000 [==============================] - 2s 33us/step - loss: 0.1248 - acc: 0.8111 - val_loss: 0.1223 - val_acc: 0.8104\n"
     ]
    },
    {
     "data": {
      "text/plain": [
       "<keras.callbacks.History at 0xb2137f898>"
      ]
     },
     "execution_count": 2,
     "metadata": {},
     "output_type": "execute_result"
    }
   ],
   "source": [
    "from keras.layers import Input, Dense\n",
    "from keras.models import Model\n",
    "from keras.datasets import mnist\n",
    "import numpy as np\n",
    "\n",
    "# this is the size of our encoded representations\n",
    "encoding_dim = 32  # 32 floats -> compression of factor 24.5, assuming the input is 784 floats\n",
    "\n",
    "# this is our input placeholder\n",
    "input_img = Input(shape=(784,))\n",
    "# \"encoded\" is the encoded representation of the input\n",
    "encoded = Dense(encoding_dim, activation='relu')(input_img)\n",
    "# \"decoded\" is the lossy reconstruction of the input\n",
    "decoded = Dense(784, activation='sigmoid')(encoded)\n",
    "\n",
    "# this model maps an input to its reconstruction\n",
    "autoencoder = Model(input_img, decoded)\n",
    "\n",
    "# configure our model to use a per-pixel binary crossentropy loss, and the Adadelta optimizer:\n",
    "\n",
    "autoencoder.compile(optimizer='adadelta', loss='binary_crossentropy', metrics=[\"accuracy\"])\n",
    "\n",
    "# prepare our input data. We're using MNIST digits, and we're discarding the labels\n",
    "# since we're only interested in encoding/decoding the input images\n",
    "\n",
    "\n",
    "(x_train, _), (x_test, _) = mnist.load_data()\n",
    "\n",
    "# normalize all values between 0 and 1 and we will flatten the 28x28 images into vectors of size 784\n",
    "\n",
    "x_train = x_train.astype('float32') / 255.\n",
    "x_test = x_test.astype('float32') / 255.\n",
    "\n",
    "# Reshape x_train and x_test\n",
    "x_train = np.reshape(x_train,[-1, 28*28])\n",
    "x_test = np.reshape(x_test,[-1, 28*28])\n",
    "\n",
    "# train our autoencoder for 50 epochs\n",
    "\n",
    "autoencoder.fit(x_train, x_train,\n",
    "                epochs=25,\n",
    "                batch_size=256,\n",
    "                shuffle=True,\n",
    "                validation_data=(x_test, x_test))"
   ]
  },
  {
   "cell_type": "code",
   "execution_count": 3,
   "metadata": {},
   "outputs": [
    {
     "name": "stdout",
     "output_type": "stream",
     "text": [
      "10000/10000 [==============================] - 0s 26us/step\n"
     ]
    },
    {
     "data": {
      "text/plain": [
       "[0.12233681818246842, 0.8103853309631348]"
      ]
     },
     "execution_count": 3,
     "metadata": {},
     "output_type": "execute_result"
    }
   ],
   "source": [
    "autoencoder.evaluate(x_test, x_test)"
   ]
  },
  {
   "cell_type": "code",
   "execution_count": null,
   "metadata": {},
   "outputs": [],
   "source": []
  }
 ],
 "metadata": {
  "kernelspec": {
   "display_name": "Python 3",
   "language": "python",
   "name": "python3"
  },
  "language_info": {
   "codemirror_mode": {
    "name": "ipython",
    "version": 3
   },
   "file_extension": ".py",
   "mimetype": "text/x-python",
   "name": "python",
   "nbconvert_exporter": "python",
   "pygments_lexer": "ipython3",
   "version": "3.6.5"
  }
 },
 "nbformat": 4,
 "nbformat_minor": 2
}
