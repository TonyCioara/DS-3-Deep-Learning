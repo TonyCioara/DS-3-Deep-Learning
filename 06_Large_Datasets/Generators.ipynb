{
 "cells": [
  {
   "cell_type": "code",
   "execution_count": 26,
   "metadata": {},
   "outputs": [
    {
     "name": "stdout",
     "output_type": "stream",
     "text": [
      "HELLO\n",
      "1\n",
      "HELLO\n",
      "2\n",
      "HELLO\n",
      "3\n",
      "HELLO\n",
      "4\n"
     ]
    }
   ],
   "source": [
    "def g(ls, size):\n",
    "    for i in ls:\n",
    "        print(\"HELLO\")\n",
    "        yield i\n",
    "\n",
    "G = g([1, 2, 3, 4], 1)\n",
    "for i in G:\n",
    "    print(i)"
   ]
  },
  {
   "cell_type": "code",
   "execution_count": 27,
   "metadata": {},
   "outputs": [],
   "source": [
    "def data_generator(df, batch_size):\n",
    "    index = 0\n",
    "    while index < len(df[0]):\n",
    "        x_batch = []\n",
    "        y_batch = []\n",
    "        \n",
    "        if len(df[0]) - batch_size < index:\n",
    "            x_batch = df[0][index:len(df[0])]\n",
    "            y_batch = df[1][index:len(df[1])]\n",
    "        else:\n",
    "            x_batch = df[0][index:index + batch_size]\n",
    "            y_batch = df[1][index:index + batch_size]\n",
    "            \n",
    "        index += batch_size\n",
    "        \n",
    "        yield(x_batch, y_batch)"
   ]
  },
  {
   "cell_type": "code",
   "execution_count": 31,
   "metadata": {},
   "outputs": [
    {
     "name": "stdout",
     "output_type": "stream",
     "text": [
      "([0, 1, 2, 3, 4], [10, 11, 12, 13, 14])\n",
      "([5, 6], [15, 16])\n"
     ]
    }
   ],
   "source": [
    "df = [[0, 1, 2, 3, 4, 5, 6], [10, 11, 12, 13, 14, 15, 16]]\n",
    "G = data_generator(df, 5)\n",
    "for i in G:\n",
    "    print(i)"
   ]
  },
  {
   "cell_type": "code",
   "execution_count": null,
   "metadata": {},
   "outputs": [],
   "source": []
  }
 ],
 "metadata": {
  "kernelspec": {
   "display_name": "Python 3",
   "language": "python",
   "name": "python3"
  },
  "language_info": {
   "codemirror_mode": {
    "name": "ipython",
    "version": 3
   },
   "file_extension": ".py",
   "mimetype": "text/x-python",
   "name": "python",
   "nbconvert_exporter": "python",
   "pygments_lexer": "ipython3",
   "version": "3.6.5"
  }
 },
 "nbformat": 4,
 "nbformat_minor": 2
}
